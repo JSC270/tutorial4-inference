{
 "cells": [
  {
   "cell_type": "markdown",
   "metadata": {},
   "source": [
    "# JSC270S - Tutorial \\#4 (part 2): Statistical Inference\n",
    "\n",
    "## Profs. F. Chevalier and N. Taback\n",
    "\n",
    "\n",
    "## Date: February 13, 2019\n",
    "## Time: 12:00 - 14:00\n",
    "## Location: BA 3175\n",
    "\n",
    "\n",
    "****\n",
    "## Instructions\n",
    "\n",
    "- This tutorial is a communication exercise. You will work in pairs to identify important insights from a previous tutorial or assignment, prepare a presentation and communicate your story in class, during tutorial on February 13, 2019.\n",
    "\n",
    "- Create a slide using python or the presentation tool of your choice.\n",
    "\n",
    "\n",
    "### What should be submitted?\n",
    "\n",
    "- Answers to the questions below.\n",
    "\n",
    "### When should it be submitted?\n",
    "\n",
    "- **Prior to the tutorial**: Upload your answers by 11:30am on February 13, 2019. \n",
    "\n",
    "\n",
    "### Where should the assignment be submitted?\n",
    "\n",
    "Your Jupyter notebook with answers should be submitted to <https://classroom.github.com/a/3d3uozo4>\n",
    "\n",
    "\n",
    "***\n",
    "\n",
    "## Tutorial Grading\n",
    "\n",
    "Tutorials will be graded according to the following marking scheme.\n",
    "\n",
    "<table>\n",
    "  <tr>\n",
    "    <th></th>\n",
    "    <th>Marks</th>\n",
    "  </tr>\n",
    "  <tr>\n",
    "    <td>Tutorial Participation</td>\n",
    "    <td>5</td>\n",
    "  </tr>\n",
    "  <tr>\n",
    "    <td>Attendance for entire tutorial</td>\n",
    "    <td>5</td>\n",
    "  </tr>\n",
    "  <tr>\n",
    "    <td>In-lab tutorial assignment</td>\n",
    "    <td>20</td>\n",
    "  </tr>\n",
    "  <tr>\n",
    "    <td>Tutorial assignment completion</td>\n",
    "    <td>20</td>\n",
    "  </tr>\n",
    "</table>\n"
   ]
  },
  {
   "cell_type": "markdown",
   "metadata": {},
   "source": [
    "# Question 1\n",
    "\n",
    "Use the influnenza data from tutorial 2 toanswer the following questions.\n",
    "\n",
    "Is the proportion of of influenza cases in Manitoba different compared to New Bruswick?\n",
    "\n",
    "(a) Conduct a permutation test to evaluate this question. What are the assumptions behind this test? What is the P-value?  What do you conclude?"
   ]
  },
  {
   "cell_type": "code",
   "execution_count": 6,
   "metadata": {},
   "outputs": [],
   "source": [
    "# Answer for Question 1a)"
   ]
  },
  {
   "cell_type": "markdown",
   "metadata": {},
   "source": [
    "(b) Conduct a Z-test to evaluate this question.  What are the assumptions behind this test? What is the P-value?  What do you conclude?"
   ]
  },
  {
   "cell_type": "code",
   "execution_count": 7,
   "metadata": {},
   "outputs": [],
   "source": [
    "# Answer for Question 1b) "
   ]
  },
  {
   "cell_type": "markdown",
   "metadata": {},
   "source": [
    "# Question 2\n",
    "\n",
    "In class 5 we discussed this example.\n",
    "\n",
    "$$\\begin{align*}\n",
    "H_0 &: \\text{region and and subtype of influenza are independent,} \\\\ \n",
    "H_a &: \\text{region and subtype of influenza are dependent}.\n",
    "\\end{align*}$$\n",
    "\n",
    "\n",
    "(a) Write a Python program to calculate the permutation distribution to test of independence of region and subtype of influenza. Create an appropriate vizualization of this distribution."
   ]
  },
  {
   "cell_type": "code",
   "execution_count": 8,
   "metadata": {},
   "outputs": [],
   "source": [
    "# answer for Q2a"
   ]
  },
  {
   "cell_type": "markdown",
   "metadata": {},
   "source": [
    "(b) Use the permutation distribution in (a) calculate the p-value of the test."
   ]
  },
  {
   "cell_type": "code",
   "execution_count": 9,
   "metadata": {},
   "outputs": [],
   "source": [
    "# answer for Q2b"
   ]
  },
  {
   "cell_type": "markdown",
   "metadata": {},
   "source": [
    "(c) What can you conclude about region and subtype of influenza based on the results in part (b)?  "
   ]
  },
  {
   "cell_type": "markdown",
   "metadata": {},
   "source": [
    "# Answer for Q2c\n",
    "\n",
    "- place answer in this cell"
   ]
  },
  {
   "cell_type": "markdown",
   "metadata": {},
   "source": [
    "# Question 3\n",
    "\n",
    "This question involves investigating type I and II error rates for testing two proportions.  \n",
    "\n",
    "(a) Explain how to simulate the type I error rate for a Z-test of two proportions."
   ]
  },
  {
   "cell_type": "markdown",
   "metadata": {},
   "source": [
    "# Answer for Q3a\n",
    "\n",
    "- place answer in this cell"
   ]
  },
  {
   "cell_type": "markdown",
   "metadata": {},
   "source": [
    "(b) Write a program in Python to simulate the type I error rate of the Z-test for two proportions.  What is your type I error rate for your simulation?  Assume the sample size in each group is 200 and $\\alpha=0.05$."
   ]
  },
  {
   "cell_type": "code",
   "execution_count": 10,
   "metadata": {},
   "outputs": [],
   "source": [
    "# code for Q3a"
   ]
  },
  {
   "cell_type": "markdown",
   "metadata": {},
   "source": [
    "(c) Explain how to simulate the power for testing two proportions."
   ]
  },
  {
   "cell_type": "markdown",
   "metadata": {},
   "source": [
    "# Answer for Q3a"
   ]
  },
  {
   "cell_type": "markdown",
   "metadata": {},
   "source": [
    "(d) Write a program in Python to simulate the type I error rate of the Z-test for two proportions.  What is your type I error rate for your simulation?  Assume the sample size in each group is 200, $\\alpha=0.05$, and the true proportion in one group is 0.45 and the true proportion in the other group is 0.57."
   ]
  },
  {
   "cell_type": "code",
   "execution_count": 11,
   "metadata": {},
   "outputs": [],
   "source": [
    "# Answer for Q3a"
   ]
  },
  {
   "cell_type": "markdown",
   "metadata": {},
   "source": [
    "# Question 4\n",
    "\n",
    "Let $X$ be the number of purchases from and $n$ the number of visitors to the website.  The website owner is testing two versions of a web page on her site.  In a one-week period: 1874 visitors were randomized to page A, and 52 visitors made a purchase; and 1871 visitors were randomized to page B and 55 made a purchase. \n",
    "\n",
    "\n",
    "(a) Assume that the probability of a purchase is uniformly distributed.  Calculate the probability that the proportion of visitors to page B that make a purchase is greater than the proportion of visitors to page A.  Explain how you arrived at your answer."
   ]
  },
  {
   "cell_type": "markdown",
   "metadata": {},
   "source": [
    "# Answer for Q4a\n",
    "\n",
    "- place answer in this cell"
   ]
  },
  {
   "cell_type": "code",
   "execution_count": 12,
   "metadata": {},
   "outputs": [],
   "source": [
    "# Answer for Q4a"
   ]
  },
  {
   "cell_type": "markdown",
   "metadata": {},
   "source": [
    "(b) Compare your result in (a) to a statistical hypothesis test.  Which test is more informative? Briefly explain.  "
   ]
  },
  {
   "cell_type": "markdown",
   "metadata": {},
   "source": [
    "# Answer for Q4b"
   ]
  },
  {
   "cell_type": "code",
   "execution_count": 5,
   "metadata": {},
   "outputs": [],
   "source": [
    "# Answer for Q4b"
   ]
  }
 ],
 "metadata": {
  "kernelspec": {
   "display_name": "Python 3",
   "language": "python",
   "name": "python3"
  },
  "language_info": {
   "codemirror_mode": {
    "name": "ipython",
    "version": 3
   },
   "file_extension": ".py",
   "mimetype": "text/x-python",
   "name": "python",
   "nbconvert_exporter": "python",
   "pygments_lexer": "ipython3",
   "version": "3.7.1"
  }
 },
 "nbformat": 4,
 "nbformat_minor": 2
}
